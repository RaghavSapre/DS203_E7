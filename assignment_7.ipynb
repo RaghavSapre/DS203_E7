{
 "cells": [
  {
   "cell_type": "markdown",
   "metadata": {},
   "source": [
    "<h3>Assignment 7 (Midsem)</h3>"
   ]
  },
  {
   "cell_type": "code",
   "execution_count": 61,
   "metadata": {},
   "outputs": [],
   "source": [
    "import pandas as pd\n",
    "import numpy as np\n",
    "import plotly.express as px\n",
    "from scipy.stats import kurtosis,skew"
   ]
  },
  {
   "cell_type": "code",
   "execution_count": 62,
   "metadata": {},
   "outputs": [],
   "source": [
    "df = pd.read_csv(\"e7-htr-currernt.csv\")"
   ]
  },
  {
   "cell_type": "code",
   "execution_count": 63,
   "metadata": {},
   "outputs": [],
   "source": [
    "current = list(df[\"HT R Phase Current\"])\n",
    "# print(current)\n",
    "timestamp = list(df[\"Timestamp\"])\n",
    "# print(timestamp)\n",
    "\n",
    "# date = []\n",
    "# for i in timestamp:\n",
    "#     _ = i.split()\n",
    "#     date.append(_[0])\n",
    "# # print(date)\n",
    "# date_set = set(date)\n",
    "# readings = []\n",
    "# temp_readings = current[0:221]\n",
    "# # j = 1\n",
    "# # for i in date_set:\n",
    "# #     while (date[j] == date[j - 1]) :\n",
    "# #         temp_readings.append(current[j])\n",
    "# #         j+=1\n",
    "# #         if j > 81726:\n",
    "# #             break\n",
    "# #     readings.append([i, temp_readings])\n",
    "# #     temp_readings = []\n",
    "# #     if j <= 81726:\n",
    "# #         temp_readings.append(current[j])\n",
    "# #         j+=1\n",
    "# # print(readings)\n",
    "# readings.append([date_set[0], temp_readings])\n",
    "\n"
   ]
  },
  {
   "cell_type": "code",
   "execution_count": null,
   "metadata": {},
   "outputs": [],
   "source": []
  }
 ],
 "metadata": {
  "kernelspec": {
   "display_name": "Python 3",
   "language": "python",
   "name": "python3"
  },
  "language_info": {
   "codemirror_mode": {
    "name": "ipython",
    "version": 3
   },
   "file_extension": ".py",
   "mimetype": "text/x-python",
   "name": "python",
   "nbconvert_exporter": "python",
   "pygments_lexer": "ipython3",
   "version": "3.11.2"
  }
 },
 "nbformat": 4,
 "nbformat_minor": 2
}
